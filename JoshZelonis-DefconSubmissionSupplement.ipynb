{
 "cells": [
  {
   "cell_type": "markdown",
   "metadata": {},
   "source": [
    "# Josh Zelonis - DEFCON Submission Supplement\n",
    "I've taken some time to sample out the highlights and walk the review board through a \"lite\" version of the code I'll be presenting/releasing if given the opportunity. For now I'm calling it 'Falco' because I started off using the rockyou.txt dataset before hunting down combos and got an earworm for their 1985 hit, \"Rock Me Amadeus\".\n",
    "\n",
    "I've been using the 2021 Twitter leak to collect sample sets of 10k users due to an assumption that these are probably real people who I'll have collisions with my combo lists. The parquet file I'm importing is a dataframe that contains all the heavy computation pieces for this to make assembling this document a bit easier on me."
   ]
  },
  {
   "cell_type": "code",
   "execution_count": 1,
   "metadata": {},
   "outputs": [
    {
     "name": "stdout",
     "output_type": "stream",
     "text": [
      "(10000, 8)\n"
     ]
    },
    {
     "data": {
      "text/plain": [
       "OrderedDict([('Email', String),\n",
       "             ('Name', String),\n",
       "             ('ScreenName', String),\n",
       "             ('Followers', Int64),\n",
       "             ('Created At', Int64),\n",
       "             ('Passwords', List(String)),\n",
       "             ('Instances', UInt32),\n",
       "             ('Similarity', Float64)])"
      ]
     },
     "execution_count": 1,
     "metadata": {},
     "output_type": "execute_result"
    }
   ],
   "source": [
    "import polars as pl\n",
    "import os\n",
    "\n",
    "SAMPLE = './data/sample-03.parquet'\n",
    "sample = pl.read_parquet(os.path.expanduser(SAMPLE))\n",
    "\n",
    "print(sample.shape)\n",
    "sample.schema"
   ]
  },
  {
   "cell_type": "markdown",
   "metadata": {},
   "source": [
    "I've sorted and indexed over 2.5B unique combos from about 1TB of combos and stealers doing my best to clean them with scripts I'll be releasing with the talk as well.\n",
    "\n",
    "Here's a quick demonstration of how I'm populating the Passwords column and a test against my own email address. "
   ]
  },
  {
   "cell_type": "code",
   "execution_count": 2,
   "metadata": {},
   "outputs": [
    {
     "data": {
      "text/plain": [
       "['b0bface!', 'yqw46gw9']"
      ]
     },
     "execution_count": 2,
     "metadata": {},
     "output_type": "execute_result"
    }
   ],
   "source": [
    "import subprocess\n",
    "\n",
    "\n",
    "SPLITS_PATH = '/Users/josh/breach/splits/'\n",
    "idx = {}\n",
    "with open(SPLITS_PATH + 'index.idx', \"r\", encoding='latin-1') as f:\n",
    "    for line in f:\n",
    "        k,v = line.strip().split(':', maxsplit=1)\n",
    "        idx.update({k:v})\n",
    "\n",
    "\n",
    "def lookupIndex(c):\n",
    "    for k,v in idx.items():\n",
    "        if c < v:\n",
    "            return k\n",
    "\n",
    "\n",
    "def getPasswords(email):\n",
    "    ret = []\n",
    "    e = str(email).lower()\n",
    "    cmd = ['/usr/bin/grep', f'^{e}', SPLITS_PATH+lookupIndex(e)]\n",
    "    lines = subprocess.run(cmd, capture_output=True, text=True).stdout.rsplit()\n",
    "\n",
    "    for line in lines:\n",
    "        try:\n",
    "            ret.append(line.split(':',1)[1])\n",
    "        except IndexError:\n",
    "            continue\n",
    "    return ret\n",
    "\n",
    "\n",
    "getPasswords('<redacted>@gmail.com')"
   ]
  },
  {
   "cell_type": "markdown",
   "metadata": {},
   "source": [
    "Note that I'm intentionally not showing names/emails/etc in this supplement, but here's a brief description of the following columns:\n",
    "* Passwords - This is a list of strings representing passwords idenfitied as being associated with the email that is essentially my private key index on this dataframe.\n",
    "* Instances - Just a count of the number of unique passwords we have for each row.\n",
    "* Similarity - This is leveraging a transformer from HuggingFace to calculate the average similarity across every combination of Passwords in a row. Note that one password is treated as an identity and zero is nothing."
   ]
  },
  {
   "cell_type": "code",
   "execution_count": 3,
   "metadata": {},
   "outputs": [
    {
     "data": {
      "text/html": [
       "<div><style>\n",
       ".dataframe > thead > tr,\n",
       ".dataframe > tbody > tr {\n",
       "  text-align: right;\n",
       "  white-space: pre-wrap;\n",
       "}\n",
       "</style>\n",
       "<small>shape: (10_000, 3)</small><table border=\"1\" class=\"dataframe\"><thead><tr><th>Passwords</th><th>Instances</th><th>Similarity</th></tr><tr><td>list[str]</td><td>u32</td><td>f64</td></tr></thead><tbody><tr><td>[&quot;justedebout&quot;]</td><td>1</td><td>1.0</td></tr><tr><td>[&quot;romer&quot;, &quot;romero&quot;, &quot;romero106&quot;]</td><td>3</td><td>0.375997</td></tr><tr><td>[]</td><td>0</td><td>0.0</td></tr><tr><td>[&quot;123456ru&quot;]</td><td>1</td><td>1.0</td></tr><tr><td>[&quot;Coconut26*&quot;, &quot;coconut26*&quot;, &quot;pineapple26&quot;]</td><td>3</td><td>0.614015</td></tr><tr><td>&hellip;</td><td>&hellip;</td><td>&hellip;</td></tr><tr><td>[&quot;chelseasmi&quot;, &quot;chelseasmile&quot;]</td><td>2</td><td>0.87876</td></tr><tr><td>[]</td><td>0</td><td>0.0</td></tr><tr><td>[&quot;heart8&quot;]</td><td>1</td><td>1.0</td></tr><tr><td>[&quot;125428419240760&quot;, &quot;51ce2c&quot;, &quot;johnalex1&quot;]</td><td>3</td><td>0.294789</td></tr><tr><td>[&quot;Pumpkin27&quot;, &quot;pumpkin27&quot;, &quot;qZO1Fx@&quot;]</td><td>3</td><td>0.121926</td></tr></tbody></table></div>"
      ],
      "text/plain": [
       "shape: (10_000, 3)\n",
       "┌───────────────────────────────────┬───────────┬────────────┐\n",
       "│ Passwords                         ┆ Instances ┆ Similarity │\n",
       "│ ---                               ┆ ---       ┆ ---        │\n",
       "│ list[str]                         ┆ u32       ┆ f64        │\n",
       "╞═══════════════════════════════════╪═══════════╪════════════╡\n",
       "│ [\"justedebout\"]                   ┆ 1         ┆ 1.0        │\n",
       "│ [\"romer\", \"romero\", \"romero106\"]  ┆ 3         ┆ 0.375997   │\n",
       "│ []                                ┆ 0         ┆ 0.0        │\n",
       "│ [\"123456ru\"]                      ┆ 1         ┆ 1.0        │\n",
       "│ [\"Coconut26*\", \"coconut26*\", \"pi… ┆ 3         ┆ 0.614015   │\n",
       "│ …                                 ┆ …         ┆ …          │\n",
       "│ [\"chelseasmi\", \"chelseasmile\"]    ┆ 2         ┆ 0.87876    │\n",
       "│ []                                ┆ 0         ┆ 0.0        │\n",
       "│ [\"heart8\"]                        ┆ 1         ┆ 1.0        │\n",
       "│ [\"125428419240760\", \"51ce2c\", \"j… ┆ 3         ┆ 0.294789   │\n",
       "│ [\"Pumpkin27\", \"pumpkin27\", \"qZO1… ┆ 3         ┆ 0.121926   │\n",
       "└───────────────────────────────────┴───────────┴────────────┘"
      ]
     },
     "execution_count": 3,
     "metadata": {},
     "output_type": "execute_result"
    }
   ],
   "source": [
    "sample.select(\n",
    "    pl.col(['Passwords', 'Instances', 'Similarity'])\n",
    ")"
   ]
  },
  {
   "cell_type": "markdown",
   "metadata": {},
   "source": [
    "Quick univariate analysis on the number of times each user has been compromised with unique credentials in my data. Basically, we end up with just short of 60% of users showing up in my data less than twice and one soul getting compromised over 120 times which admittedly could be noise but it's not statistically significant whether or not it is. "
   ]
  },
  {
   "cell_type": "code",
   "execution_count": 4,
   "metadata": {},
   "outputs": [
    {
     "data": {
      "image/png": "[encoded data removed]",
      "text/plain": [
       "<Figure size 640x480 with 1 Axes>"
      ]
     },
     "metadata": {},
     "output_type": "display_data"
    },
    {
     "data": {
      "image/png": "[encoded data removed]",
      "text/plain": [
       "<Figure size 640x480 with 1 Axes>"
      ]
     },
     "metadata": {},
     "output_type": "display_data"
    }
   ],
   "source": [
    "import matplotlib.pyplot as plt\n",
    "import seaborn as sns\n",
    "\n",
    "%matplotlib inline\n",
    "\n",
    "sns.histplot(data=sample.to_pandas(), x='Instances', kde=True)\n",
    "plt.show()\n",
    "sns.boxplot(data=sample.to_pandas(), x='Instances')\n",
    "plt.show()"
   ]
  },
  {
   "cell_type": "markdown",
   "metadata": {},
   "source": [
    "Resampling to remove users who have been compromised fewer than 2 times as this is the floor for our ability to split out a test and train set.\n",
    "\n",
    "We will then go through the process of creating that test and train set, with the test set being converted from a list[str] to a list.\n",
    "\n",
    "Note that the shape of this goes from 10k rows to 4093 during this step."
   ]
  },
  {
   "cell_type": "code",
   "execution_count": 5,
   "metadata": {},
   "outputs": [
    {
     "data": {
      "text/html": [
       "<div><style>\n",
       ".dataframe > thead > tr,\n",
       ".dataframe > tbody > tr {\n",
       "  text-align: right;\n",
       "  white-space: pre-wrap;\n",
       "}\n",
       "</style>\n",
       "<small>shape: (4_093, 5)</small><table border=\"1\" class=\"dataframe\"><thead><tr><th>Passwords</th><th>Instances</th><th>Similarity</th><th>Train</th><th>Test</th></tr><tr><td>list[str]</td><td>u32</td><td>f64</td><td>list[str]</td><td>str</td></tr></thead><tbody><tr><td>[&quot;romer&quot;, &quot;romero&quot;, &quot;romero106&quot;]</td><td>3</td><td>0.375997</td><td>[&quot;romer&quot;, &quot;romero&quot;]</td><td>&quot;romero106&quot;</td></tr><tr><td>[&quot;Coconut26*&quot;, &quot;coconut26*&quot;, &quot;pineapple26&quot;]</td><td>3</td><td>0.614015</td><td>[&quot;Coconut26*&quot;, &quot;coconut26*&quot;]</td><td>&quot;pineapple26&quot;</td></tr><tr><td>[&quot;123&quot;, &quot;steph1995&quot;]</td><td>2</td><td>0.469135</td><td>[&quot;123&quot;]</td><td>&quot;steph1995&quot;</td></tr><tr><td>[&quot;Indokingpop&quot;, &quot;tchophie&quot;]</td><td>2</td><td>0.370441</td><td>[&quot;Indokingpop&quot;]</td><td>&quot;tchophie&quot;</td></tr><tr><td>[&quot;7777&quot;, &quot;Orangee1&quot;, … &quot;orangee1&quot;]</td><td>4</td><td>0.600454</td><td>[&quot;7777&quot;, &quot;Orangee1&quot;, &quot;Orangee1!&quot;]</td><td>&quot;orangee1&quot;</td></tr><tr><td>&hellip;</td><td>&hellip;</td><td>&hellip;</td><td>&hellip;</td><td>&hellip;</td></tr><tr><td>[&quot;6v8pq7&quot;, &quot;Newports1&quot;, … &quot;qwerty&quot;]</td><td>5</td><td>0.189279</td><td>[&quot;6v8pq7&quot;, &quot;Newports1&quot;, … &quot;newports1&quot;]</td><td>&quot;qwerty&quot;</td></tr><tr><td>[&quot;Chocolate11&quot;, &quot;Chocolate11!&quot;, … &quot;chocolatetaco1!&quot;]</td><td>7</td><td>0.742572</td><td>[&quot;Chocolate11&quot;, &quot;Chocolate11!&quot;, … &quot;chocolatetaco1!&quot;]</td><td>&quot;chocolatetaco1…</td></tr><tr><td>[&quot;chelseasmi&quot;, &quot;chelseasmile&quot;]</td><td>2</td><td>0.87876</td><td>[&quot;chelseasmi&quot;]</td><td>&quot;chelseasmile&quot;</td></tr><tr><td>[&quot;125428419240760&quot;, &quot;51ce2c&quot;, &quot;johnalex1&quot;]</td><td>3</td><td>0.294789</td><td>[&quot;125428419240760&quot;, &quot;51ce2c&quot;]</td><td>&quot;johnalex1&quot;</td></tr><tr><td>[&quot;Pumpkin27&quot;, &quot;pumpkin27&quot;, &quot;qZO1Fx@&quot;]</td><td>3</td><td>0.121926</td><td>[&quot;Pumpkin27&quot;, &quot;pumpkin27&quot;]</td><td>&quot;qZO1Fx@&quot;</td></tr></tbody></table></div>"
      ],
      "text/plain": [
       "shape: (4_093, 5)\n",
       "┌────────────────────────────┬───────────┬────────────┬───────────────────────────┬────────────────┐\n",
       "│ Passwords                  ┆ Instances ┆ Similarity ┆ Train                     ┆ Test           │\n",
       "│ ---                        ┆ ---       ┆ ---        ┆ ---                       ┆ ---            │\n",
       "│ list[str]                  ┆ u32       ┆ f64        ┆ list[str]                 ┆ str            │\n",
       "╞════════════════════════════╪═══════════╪════════════╪═══════════════════════════╪════════════════╡\n",
       "│ [\"romer\", \"romero\",        ┆ 3         ┆ 0.375997   ┆ [\"romer\", \"romero\"]       ┆ romero106      │\n",
       "│ \"romero106\"]               ┆           ┆            ┆                           ┆                │\n",
       "│ [\"Coconut26*\",             ┆ 3         ┆ 0.614015   ┆ [\"Coconut26*\",            ┆ pineapple26    │\n",
       "│ \"coconut26*\", \"pi…         ┆           ┆            ┆ \"coconut26*\"]             ┆                │\n",
       "│ [\"123\", \"steph1995\"]       ┆ 2         ┆ 0.469135   ┆ [\"123\"]                   ┆ steph1995      │\n",
       "│ [\"Indokingpop\",            ┆ 2         ┆ 0.370441   ┆ [\"Indokingpop\"]           ┆ tchophie       │\n",
       "│ \"tchophie\"]                ┆           ┆            ┆                           ┆                │\n",
       "│ [\"7777\", \"Orangee1\", …     ┆ 4         ┆ 0.600454   ┆ [\"7777\", \"Orangee1\",      ┆ orangee1       │\n",
       "│ \"orangee1…                 ┆           ┆            ┆ \"Orangee1!\"…              ┆                │\n",
       "│ …                          ┆ …         ┆ …          ┆ …                         ┆ …              │\n",
       "│ [\"6v8pq7\", \"Newports1\", …  ┆ 5         ┆ 0.189279   ┆ [\"6v8pq7\", \"Newports1\", … ┆ qwerty         │\n",
       "│ \"qwert…                    ┆           ┆            ┆ \"newpo…                   ┆                │\n",
       "│ [\"Chocolate11\",            ┆ 7         ┆ 0.742572   ┆ [\"Chocolate11\",           ┆ chocolatetaco1 │\n",
       "│ \"Chocolate11!\", …          ┆           ┆            ┆ \"Chocolate11!\", …         ┆                │\n",
       "│ [\"chelseasmi\",             ┆ 2         ┆ 0.87876    ┆ [\"chelseasmi\"]            ┆ chelseasmile   │\n",
       "│ \"chelseasmile\"]            ┆           ┆            ┆                           ┆                │\n",
       "│ [\"125428419240760\",        ┆ 3         ┆ 0.294789   ┆ [\"125428419240760\",       ┆ johnalex1      │\n",
       "│ \"51ce2c\", \"j…              ┆           ┆            ┆ \"51ce2c\"]                 ┆                │\n",
       "│ [\"Pumpkin27\", \"pumpkin27\", ┆ 3         ┆ 0.121926   ┆ [\"Pumpkin27\",             ┆ qZO1Fx@        │\n",
       "│ \"qZO1…                     ┆           ┆            ┆ \"pumpkin27\"]              ┆                │\n",
       "└────────────────────────────┴───────────┴────────────┴───────────────────────────┴────────────────┘"
      ]
     },
     "execution_count": 5,
     "metadata": {},
     "output_type": "execute_result"
    }
   ],
   "source": [
    "resample = sample.with_columns(\n",
    "    pl.col('*')\n",
    ").filter(pl.col('Instances')>1)\n",
    "\n",
    "# Randomly pick one of the passwords as our test\n",
    "resample = resample.with_columns(\n",
    "    pl.col('Passwords')\n",
    "    .list.sample(n=1, seed=0xb0bface)\n",
    "    .alias('Test')\n",
    ")\n",
    "\n",
    "# Take the difference of the test and the password lists to create our \"train\" list\n",
    "resample = resample.with_columns(\n",
    "    pl.col('Passwords')\n",
    "    .list.set_difference('Test')\n",
    "    .alias('Train')\n",
    ")\n",
    "\n",
    "# Convert the test value from a list[str] with a single element to a str (probably a better way to do this but *shrug*)\n",
    "resample = resample.with_columns(\n",
    "    pl.col('Test')\n",
    "    .list.join('')\n",
    "    .alias('Test')\n",
    ")\n",
    "\n",
    "# Simplify code moving forward since I'm cutting/pasting from a much larger code base for this submission.\n",
    "sample = resample\n",
    "\n",
    "# Show the train/test split. Note the rows are 4093 of the initial 10k\n",
    "sample.select(\n",
    "    pl.col(['Passwords', 'Instances', 'Similarity', 'Train', 'Test'])\n",
    ")"
   ]
  },
  {
   "cell_type": "markdown",
   "metadata": {},
   "source": [
    "Sample code using transformers to compare the similarity across passwords which is helpful for targeting. There's nuance here because one value will have an outsized impact on the metric for fewer than 5 passwords due to the number of combinations. Experimentally, accounts with over 0.8 similarity are ripe for abuse."
   ]
  },
  {
   "cell_type": "code",
   "execution_count": 6,
   "metadata": {},
   "outputs": [
    {
     "name": "stdout",
     "output_type": "stream",
     "text": [
      "0.5603891685605049\n",
      "0.8896716833114624\n",
      "0.9253764450550079\n"
     ]
    }
   ],
   "source": [
    "from sentence_transformers import SentenceTransformer, util\n",
    "import numpy as np\n",
    "import statistics\n",
    "\n",
    "\n",
    "def calculateSimilarity(plist):\n",
    "    if len(plist)<2:\n",
    "        return len(plist)   # one password is an identity, zero is nothing\n",
    "    \n",
    "    model = SentenceTransformer('sentence-transformers/all-MiniLM-l6-v2')\n",
    "    embeddings = []\n",
    "    for p in plist:\n",
    "        embeddings.append(model.encode(p))\n",
    "\n",
    "\n",
    "    arr = np.array([])\n",
    "    while len(embeddings)>1:\n",
    "        source = embeddings.pop()\n",
    "        for embedding in embeddings:\n",
    "            arr = np.append(arr, [float(util.pytorch_cos_sim(source, embedding)[0][0])])\n",
    "\n",
    "    return statistics.median(arr)\n",
    "\n",
    "print(calculateSimilarity(['123456', 'Francesca16', 'francesca', 'francesca16']))\n",
    "print(calculateSimilarity(['123456', 'Francesca16', 'francesca', 'francesca16', 'francesca17']))\n",
    "print(calculateSimilarity(['Francesca16', 'francesca', 'francesca16', 'francesca17']))"
   ]
  },
  {
   "cell_type": "markdown",
   "metadata": {},
   "source": [
    "The Histogram for Similarity gives the idea that approximately 25% of users are using similar passwords across multiple breaches."
   ]
  },
  {
   "cell_type": "code",
   "execution_count": 7,
   "metadata": {},
   "outputs": [
    {
     "data": {
      "image/png": "[encoded data removed]",
      "text/plain": [
       "<Figure size 640x480 with 1 Axes>"
      ]
     },
     "metadata": {},
     "output_type": "display_data"
    }
   ],
   "source": [
    "sns.histplot(data=sample.select(pl.col('Similarity')).to_pandas(), x='Similarity',  kde=True)\n",
    "plt.show()"
   ]
  },
  {
   "cell_type": "markdown",
   "metadata": {},
   "source": [
    "I have a number of techniques that I've described in the abstract and have code to support, including leveraging ChatGPT 3.5 to help tokenize these passwords and feeding that data back into zxcvbn to get token literals for building a Spike-like grammar/fuzzer that is tailored to individual users. I'll touch on that later, but I'm going to start by demonstrating a simple technique that gets me 20% cracking efficacy with a median of 30 guesses for the 4093 users I have more than one credential pair for in the original sample of 10k. "
   ]
  },
  {
   "cell_type": "code",
   "execution_count": 9,
   "metadata": {},
   "outputs": [
    {
     "data": {
      "text/plain": [
       "['bob#',\n",
       " 'bob.',\n",
       " 'bob?',\n",
       " 'Bob!',\n",
       " 'Bob.',\n",
       " 'Bob=',\n",
       " 'Bob',\n",
       " 'Bob?',\n",
       " 'bob@',\n",
       " 'Bob$',\n",
       " 'bob*',\n",
       " 'Bob*',\n",
       " 'bob=',\n",
       " 'bob',\n",
       " 'bob$',\n",
       " 'Bob#',\n",
       " 'Bob:',\n",
       " 'Bob@']"
      ]
     },
     "execution_count": 9,
     "metadata": {},
     "output_type": "execute_result"
    }
   ],
   "source": [
    "import re\n",
    "# Top 8 specials by counting trailing character on all passwords in this set\n",
    "SPECIALS = '!$.@#=*?'\n",
    "\n",
    "def rstripSpecials(arr):\n",
    "    ret = []\n",
    "    for val in arr:\n",
    "        if val is None: continue\n",
    "        if val[-1] in ')|]\"¡%.+~!$^>_/@:?&=#*-':\n",
    "            ret.append(str(val[:-1]))\n",
    "        else:\n",
    "            ret.append(str(val))\n",
    "\n",
    "    return ret\n",
    "\n",
    "\n",
    "def invertCapitalization(arr):\n",
    "    ret = []\n",
    "    for val in arr:\n",
    "        if re.match('^[A-Z]', val[0]):\n",
    "            guess = val[0].lower() + val[1:]\n",
    "        elif re.match('^[a-z]', val[0]):\n",
    "            guess = val[0].upper() + val[1:]\n",
    "        else:\n",
    "            continue\n",
    "\n",
    "        if guess not in arr:\n",
    "            ret.append(guess)\n",
    "\n",
    "    return ret\n",
    "\n",
    "\n",
    "def tokenGuesses(token):\n",
    "    ret = []\n",
    "    rstrip = rstripSpecials(token)\n",
    "    for val in rstrip:\n",
    "        if val not in token:\n",
    "            ret.append(val)\n",
    "        for s in SPECIALS:\n",
    "            guess = val + s\n",
    "            if guess not in token:\n",
    "                ret.append(guess)\n",
    "    caps = invertCapitalization(token + ret)\n",
    "\n",
    "    return list(set(ret + caps))\n",
    "\n",
    "tokenGuesses(['bob!', 'bob:'])"
   ]
  },
  {
   "cell_type": "markdown",
   "metadata": {},
   "source": [
    "This next cell does three things:\n",
    "* Runs the 'Train' set through tokenGuesses that creates unique password guesses based on a token that has been stripped of any special trailing character and performed a number of operations to create a set of 'Guesses' such as toggling the capitalization of the first character of the token and iterating through a few common symbols. Each of these 'Guesses' is guaranteed to be both unique and not part of the 'Train' set because that would just be credential stuffing.\n",
    "* Tests to see if the 'Test' value is in the 'Guesses' and outputs the truth value for this into a 'Success' column.\n",
    "* Adds the number of True 'Success' values and divides by the number of rows in this set (4093) to give us the percent of successfully guessed credentials (~21%)"
   ]
  },
  {
   "cell_type": "code",
   "execution_count": 10,
   "metadata": {},
   "outputs": [
    {
     "data": {
      "text/html": [
       "<div><style>\n",
       ".dataframe > thead > tr,\n",
       ".dataframe > tbody > tr {\n",
       "  text-align: right;\n",
       "  white-space: pre-wrap;\n",
       "}\n",
       "</style>\n",
       "<small>shape: (1, 1)</small><table border=\"1\" class=\"dataframe\"><thead><tr><th>Success</th></tr><tr><td>f64</td></tr></thead><tbody><tr><td>0.217444</td></tr></tbody></table></div>"
      ],
      "text/plain": [
       "shape: (1, 1)\n",
       "┌──────────┐\n",
       "│ Success  │\n",
       "│ ---      │\n",
       "│ f64      │\n",
       "╞══════════╡\n",
       "│ 0.217444 │\n",
       "└──────────┘"
      ]
     },
     "execution_count": 10,
     "metadata": {},
     "output_type": "execute_result"
    }
   ],
   "source": [
    "sample = sample.with_columns(\n",
    "    pl.struct(['Train'])\n",
    "    .map_elements(lambda col: tokenGuesses(col['Train']), return_dtype=list[str])\n",
    "    .alias('Guesses')\n",
    ")\n",
    "\n",
    "sample = sample.with_columns(\n",
    "    pl.struct(['Test','Guesses'])\n",
    "    .map_elements(lambda row: (row['Test'] in row['Guesses']) if (row['Guesses'] is not None) else False, return_dtype=bool)\n",
    "    .alias('Success')\n",
    ")\n",
    "\n",
    "sample.select(\n",
    "    pl.col('Success')\n",
    "    .sum()\n",
    ")/sample.shape[0]"
   ]
  },
  {
   "cell_type": "markdown",
   "metadata": {},
   "source": [
    "Ok, so we've shown this single token guessing strategy works fairly well (21.7%) against the set of users we have more than one compromised credential for, which is 8.88% of the original 10k number. For context, Cloudflare estimates credential stuffing attacks work at a rate of 1-3% so we're essentially doubling or tripling the effectiveness of combo lists as a data set by doing something smarter than just seeing if they work. How about the number of guesses it takes to get this level of accuracy?\n",
    "\n",
    "On average, fewer than 35 guesses with the median right at 30 due to the skew nature of the number of 'Instances'."
   ]
  },
  {
   "cell_type": "code",
   "execution_count": 11,
   "metadata": {},
   "outputs": [
    {
     "data": {
      "text/html": [
       "<div><style>\n",
       ".dataframe > thead > tr,\n",
       ".dataframe > tbody > tr {\n",
       "  text-align: right;\n",
       "  white-space: pre-wrap;\n",
       "}\n",
       "</style>\n",
       "<small>shape: (1, 1)</small><table border=\"1\" class=\"dataframe\"><thead><tr><th>len</th></tr><tr><td>f64</td></tr></thead><tbody><tr><td>30.0</td></tr></tbody></table></div>"
      ],
      "text/plain": [
       "shape: (1, 1)\n",
       "┌──────┐\n",
       "│ len  │\n",
       "│ ---  │\n",
       "│ f64  │\n",
       "╞══════╡\n",
       "│ 30.0 │\n",
       "└──────┘"
      ]
     },
     "execution_count": 11,
     "metadata": {},
     "output_type": "execute_result"
    }
   ],
   "source": [
    "sample.with_columns(\n",
    "    pl.col('Guesses')\n",
    "    .list.len()\n",
    "    .alias('len')\n",
    ").select(\n",
    "    pl.col('*')\n",
    ").filter(\n",
    "    pl.col('Success') == True\n",
    ").select(\n",
    "    pl.median('len')\n",
    ")"
   ]
  },
  {
   "cell_type": "markdown",
   "metadata": {},
   "source": [
    "Now that we've shown the effectiveness of this technique for single tokens, let's explore how I'm leveraging LLM and other tools to deliver some pretty exciting outcomes. \n",
    "\n",
    "Starting with a simple ChatGPT parsing prompt and an XKCD reference."
   ]
  },
  {
   "cell_type": "code",
   "execution_count": 16,
   "metadata": {},
   "outputs": [
    {
     "data": {
      "text/plain": [
       "['troubadour', '64']"
      ]
     },
     "execution_count": 16,
     "metadata": {},
     "output_type": "execute_result"
    }
   ],
   "source": [
    "import os\n",
    "from openai import OpenAI\n",
    "OPENAI_KEY_PATH = '~/.openai/key'\n",
    "\n",
    "with open(os.path.expanduser(OPENAI_KEY_PATH), 'r') as f:\n",
    "    client = OpenAI(api_key = f.read().rstrip('\\n'))\n",
    "\n",
    "import json\n",
    "\n",
    "def OpenAITokenizer(p):\n",
    "  messages = [\n",
    "    {\n",
    "      \"role\": \"system\", \n",
    "      \"content\": 'You are a helpful assistant who will respond in json, but only with an array of entities. also, if the word happens to be a name, specify that. For example, if I ask you to parse the string \"b0bface77\" you will respond with the json key \"grammar\" that is an array [\"name\", \"word\", \"digits\"] and a matching \"tokens\" array [\"bob\", \"face\", \"77\"], also include a binary setting \"l33t\" that is true if any of the words were in l33tspeak and false otherwise. If something looks parses into a series of letters that aren\\'t a word you\\'re familiar with, classify them as \"letters\". for consistency, call \"special characters\" as \"symbols\" and use a greedy algorithm for combining them. make sure not to leave out any symbols when outputting tokens'\n",
    "    },\n",
    "    {\n",
    "      'role': \"user\",\n",
    "      'content':f'Parse the string \"{p}\" into a grammar, after translating from l33t speak if necessary. respond in json'\n",
    "    }\n",
    "  ]\n",
    "\n",
    "  response = completion = client.chat.completions.create(\n",
    "    model=\"gpt-3.5-turbo\",\n",
    "    messages=messages,\n",
    "    response_format= { \"type\":\"json_object\" }\n",
    "  )\n",
    "\n",
    "  return json.loads(completion.choices[0].message.content)['tokens']\n",
    "\n",
    "OpenAITokenizer('Tr0ub4d0ur64')\n"
   ]
  },
  {
   "cell_type": "markdown",
   "metadata": {},
   "source": [
    "Ok, so we want to use LLM because it has the biggest dictionary one can imagine for parsing out tokens like this. But the challenge is that this isn't necessarily what we want to be brute forcing with. Instead, I feed this very small dictionary back into a program Dropbox published a decade ago to help gage password strength."
   ]
  },
  {
   "cell_type": "code",
   "execution_count": 13,
   "metadata": {},
   "outputs": [
    {
     "data": {
      "text/plain": [
       "{'password': 'Tr0ub4d0ur64',\n",
       " 'guesses': Decimal('15000'),\n",
       " 'guesses_log10': 4.176091259055681,\n",
       " 'sequence': [{'pattern': 'dictionary',\n",
       "   'i': 0,\n",
       "   'j': 9,\n",
       "   'token': 'Tr0ub4d0ur',\n",
       "   'matched_word': 'troubadour',\n",
       "   'rank': 1,\n",
       "   'dictionary_name': 'user_inputs',\n",
       "   'reversed': False,\n",
       "   'l33t': True,\n",
       "   'sub': {'4': 'a', '0': 'o'},\n",
       "   'sub_display': '4 -> a, 0 -> o',\n",
       "   'base_guesses': 1,\n",
       "   'uppercase_variations': 2,\n",
       "   'l33t_variations': 4,\n",
       "   'guesses': 50,\n",
       "   'guesses_log10': 1.6989700043360185},\n",
       "  {'pattern': 'dictionary',\n",
       "   'i': 10,\n",
       "   'j': 11,\n",
       "   'token': '64',\n",
       "   'matched_word': '64',\n",
       "   'rank': 2,\n",
       "   'dictionary_name': 'user_inputs',\n",
       "   'reversed': False,\n",
       "   'l33t': False,\n",
       "   'base_guesses': 2,\n",
       "   'uppercase_variations': 1,\n",
       "   'l33t_variations': 1,\n",
       "   'guesses': 50,\n",
       "   'guesses_log10': 1.6989700043360185}],\n",
       " 'calc_time': datetime.timedelta(microseconds=784),\n",
       " 'crack_times_seconds': {'online_throttling_100_per_hour': Decimal('540000.0000000000299760216649'),\n",
       "  'online_no_throttling_10_per_second': Decimal('1500'),\n",
       "  'offline_slow_hashing_1e4_per_second': Decimal('1.5'),\n",
       "  'offline_fast_hashing_1e10_per_second': Decimal('0.0000015')},\n",
       " 'crack_times_display': {'online_throttling_100_per_hour': '6 days',\n",
       "  'online_no_throttling_10_per_second': '25 minutes',\n",
       "  'offline_slow_hashing_1e4_per_second': '2 seconds',\n",
       "  'offline_fast_hashing_1e10_per_second': 'less than a second'},\n",
       " 'score': 1,\n",
       " 'feedback': {'warning': '',\n",
       "  'suggestions': ['Add another word or two. Uncommon words are better.',\n",
       "   \"Capitalization doesn't help very much.\",\n",
       "   \"Predictable substitutions like '@' instead of 'a' don't help very much.\"]}}"
      ]
     },
     "execution_count": 13,
     "metadata": {},
     "output_type": "execute_result"
    }
   ],
   "source": [
    "from zxcvbn import zxcvbn\n",
    "\n",
    "zxcvbn('Tr0ub4d0ur64', ['troubadour', '64'])"
   ]
  },
  {
   "cell_type": "markdown",
   "metadata": {},
   "source": [
    "So now we have the token literals for this password ['Tr0ub4d0ur', '64'] and don't have to worry about translating in and out of l33tspeak, the assumption is if you're the kind of person who is going to use l33tspeak, it's going to show up in your token literals so we don't even care how you go about this. The truth is that zxcvbn would have sufficed for parsing this without the help from ChatGPT, but there's one more outcome we get from using ChatGPT, and that's that when it fucks up, it's a really good indicator that there's a lot of entropy in the password."
   ]
  },
  {
   "cell_type": "code",
   "execution_count": 14,
   "metadata": {},
   "outputs": [
    {
     "data": {
      "text/plain": [
       "['b',\n",
       " '868',\n",
       " 'd',\n",
       " '57',\n",
       " 'c',\n",
       " '3850',\n",
       " 'e',\n",
       " '822',\n",
       " '90',\n",
       " 'aad',\n",
       " '941',\n",
       " 'ba',\n",
       " '80',\n",
       " 'f',\n",
       " '1',\n",
       " 'a',\n",
       " '6',\n",
       " 'ed',\n",
       " '329',\n",
       " 'a',\n",
       " '95']"
      ]
     },
     "execution_count": 14,
     "metadata": {},
     "output_type": "execute_result"
    }
   ],
   "source": [
    "OpenAITokenizer('b868d57c3850e82290aad941ba80f1a6ed329a95')"
   ]
  },
  {
   "cell_type": "markdown",
   "metadata": {},
   "source": [
    "So I've built an entropy metric based on this to help filter out high entropy results from hashes or possibly password managers. I'm not currently filtering based on this, but I think it's valuable enough to discuss and help other hackers understand that sometimes when GenAI isn't giving you what you want, it's giving you something else that may be of value.\n",
    "\n",
    "The output of this line is a summary of rows where the 'Entropy' metric is over 0.75 to demonstrate how effective this surprising metric ended up being for finding high entropy strings."
   ]
  },
  {
   "cell_type": "code",
   "execution_count": 15,
   "metadata": {},
   "outputs": [
    {
     "data": {
      "text/html": [
       "<div><style>\n",
       ".dataframe > thead > tr,\n",
       ".dataframe > tbody > tr {\n",
       "  text-align: right;\n",
       "  white-space: pre-wrap;\n",
       "}\n",
       "</style>\n",
       "<small>shape: (137, 4)</small><table border=\"1\" class=\"dataframe\"><thead><tr><th>Password</th><th>Tokens</th><th>Entropy</th><th>Literals</th></tr><tr><td>str</td><td>list[str]</td><td>f64</td><td>list[str]</td></tr></thead><tbody><tr><td>&quot;6f6892&quot;</td><td>[&quot;6&quot;, &quot;f&quot;, … &quot;2&quot;]</td><td>1.0</td><td>[&quot;6f6892&quot;]</td></tr><tr><td>&quot;946506146gm&quot;</td><td>[&quot;9&quot;, &quot;4&quot;, … &quot;gm&quot;]</td><td>0.818182</td><td>[&quot;94&quot;, &quot;650614&quot;, &quot;6gm&quot;]</td></tr><tr><td>&quot;7sd2fs&quot;</td><td>[&quot;7&quot;, &quot;s&quot;, … &quot;s&quot;]</td><td>1.0</td><td>[&quot;7sd2fs&quot;]</td></tr><tr><td>&quot;R5swbr&quot;</td><td>[&quot;r&quot;, &quot;5&quot;, … &quot;r&quot;]</td><td>0.833333</td><td>[&quot;R5swbr&quot;]</td></tr><tr><td>&quot;e01ENX02Tm9MQT…</td><td>[&quot;e&quot;, &quot;01&quot;, … &quot;0&quot;]</td><td>0.769231</td><td>[&quot;e01ENX02Tm9MQTJHaGV6emZBV0gzbzFIcWZRP&quot;, &quot;T0&quot;]</td></tr><tr><td>&hellip;</td><td>&hellip;</td><td>&hellip;</td><td>&hellip;</td></tr><tr><td>&quot;0n3l0v3&quot;</td><td>[&quot;0&quot;, &quot;n&quot;, … &quot;v&quot;]</td><td>0.857143</td><td>[&quot;0n3l0v3&quot;]</td></tr><tr><td>&quot;dDLXYO&quot;</td><td>[&quot;d&quot;, &quot;d&quot;, … &quot;o&quot;]</td><td>1.0</td><td>[&quot;dDLXYO&quot;]</td></tr><tr><td>&quot;q7w9qj&quot;</td><td>[&quot;q&quot;, &quot;7&quot;, … &quot;j&quot;]</td><td>0.833333</td><td>[&quot;q7w9qj&quot;]</td></tr><tr><td>&quot;ef1c7b&quot;</td><td>[&quot;ef&quot;, &quot;1&quot;, … &quot;b&quot;]</td><td>0.833333</td><td>[&quot;ef1c7b&quot;]</td></tr><tr><td>&quot;W&quot;</td><td>[&quot;W&quot;]</td><td>1.0</td><td>[&quot;W&quot;]</td></tr></tbody></table></div>"
      ],
      "text/plain": [
       "shape: (137, 4)\n",
       "┌─────────────────────────────────┬────────────────────┬──────────┬────────────────────────────────┐\n",
       "│ Password                        ┆ Tokens             ┆ Entropy  ┆ Literals                       │\n",
       "│ ---                             ┆ ---                ┆ ---      ┆ ---                            │\n",
       "│ str                             ┆ list[str]          ┆ f64      ┆ list[str]                      │\n",
       "╞═════════════════════════════════╪════════════════════╪══════════╪════════════════════════════════╡\n",
       "│ 6f6892                          ┆ [\"6\", \"f\", … \"2\"]  ┆ 1.0      ┆ [\"6f6892\"]                     │\n",
       "│ 946506146gm                     ┆ [\"9\", \"4\", … \"gm\"] ┆ 0.818182 ┆ [\"94\", \"650614\", \"6gm\"]        │\n",
       "│ 7sd2fs                          ┆ [\"7\", \"s\", … \"s\"]  ┆ 1.0      ┆ [\"7sd2fs\"]                     │\n",
       "│ R5swbr                          ┆ [\"r\", \"5\", … \"r\"]  ┆ 0.833333 ┆ [\"R5swbr\"]                     │\n",
       "│ e01ENX02Tm9MQTJHaGV6emZBV0gzbzF ┆ [\"e\", \"01\", … \"0\"] ┆ 0.769231 ┆ [\"e01ENX02Tm9MQTJHaGV6emZBV0gz │\n",
       "│ I…                              ┆                    ┆          ┆ bz…                            │\n",
       "│ …                               ┆ …                  ┆ …        ┆ …                              │\n",
       "│ 0n3l0v3                         ┆ [\"0\", \"n\", … \"v\"]  ┆ 0.857143 ┆ [\"0n3l0v3\"]                    │\n",
       "│ dDLXYO                          ┆ [\"d\", \"d\", … \"o\"]  ┆ 1.0      ┆ [\"dDLXYO\"]                     │\n",
       "│ q7w9qj                          ┆ [\"q\", \"7\", … \"j\"]  ┆ 0.833333 ┆ [\"q7w9qj\"]                     │\n",
       "│ ef1c7b                          ┆ [\"ef\", \"1\", … \"b\"] ┆ 0.833333 ┆ [\"ef1c7b\"]                     │\n",
       "│ W                               ┆ [\"W\"]              ┆ 1.0      ┆ [\"W\"]                          │\n",
       "└─────────────────────────────────┴────────────────────┴──────────┴────────────────────────────────┘"
      ]
     },
     "execution_count": 15,
     "metadata": {},
     "output_type": "execute_result"
    }
   ],
   "source": [
    "import polars as pl\n",
    "import os\n",
    "\n",
    "PASSWORDS = './data/passwords-zxcvbn.parquet'\n",
    "pw = pl.read_parquet(os.path.expanduser(PASSWORDS))\n",
    "\n",
    "pw.select(pl.col('*')).filter(pl.col('Entropy')>0.75)"
   ]
  },
  {
   "cell_type": "markdown",
   "metadata": {},
   "source": [
    "I want to wrap up by saying that I appreciate your time and consideration for this talk.\n"
   ]
  }
 ],
 "metadata": {
  "kernelspec": {
   "display_name": "fastai",
   "language": "python",
   "name": "python3"
  },
  "language_info": {
   "codemirror_mode": {
    "name": "ipython",
    "version": 3
   },
   "file_extension": ".py",
   "mimetype": "text/x-python",
   "name": "python",
   "nbconvert_exporter": "python",
   "pygments_lexer": "ipython3",
   "version": "3.11.8"
  }
 },
 "nbformat": 4,
 "nbformat_minor": 2
}
